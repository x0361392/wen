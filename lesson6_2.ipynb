{
 "cells": [
  {
   "cell_type": "code",
   "execution_count": 3,
   "metadata": {},
   "outputs": [
    {
     "data": {
      "text/plain": [
       "55"
      ]
     },
     "execution_count": 3,
     "metadata": {},
     "output_type": "execute_result"
    }
   ],
   "source": [
    "#while迴圈明確知道執行的次數\n",
    "value = 0\n",
    "i = 1\n",
    "while i<=10:\n",
    "    value += i\n",
    "    i += 1\n",
    "value"
   ]
  },
  {
   "cell_type": "code",
   "execution_count": 4,
   "metadata": {},
   "outputs": [
    {
     "name": "stdout",
     "output_type": "stream",
     "text": [
      "請輸入本月的存款:15000\n",
      "請輸入本月的存款:7500\n",
      "請輸入本月的存款:8000\n",
      "恭喜！已經存夠了，總存款為30500\n"
     ]
    }
   ],
   "source": [
    "##小明想要存錢買一輛機車，機車每輛30000元，他將每月存的錢輸入，當存款足夠購買機車時，就提示訊息告知。\n",
    "import pyinputplus as pyip\n",
    "\n",
    "deposit = 0\n",
    "while(deposit< 30000):\n",
    "    month_value = pyip.inputInt(F\"請輸入本月的存款:\")\n",
    "    print(month_value)\n",
    "    deposit += month_value\n",
    "\n",
    "print(f\"恭喜！已經存夠了，總存款為{deposit}\")    \n",
    "\n"
   ]
  },
  {
   "cell_type": "code",
   "execution_count": 8,
   "metadata": {},
   "outputs": [
    {
     "name": "stdout",
     "output_type": "stream",
     "text": [
      "請輸入第1月份的存款:15000\n",
      "請輸入第2月份的存款:9836\n",
      "請輸入第3月份的存款:4576\n",
      "請輸入第4月份的存款:2589\n",
      "恭喜！已經存夠了，.共存了4月總存款為32001\n"
     ]
    }
   ],
   "source": [
    "##小明想要存錢買一輛機車，機車每輛30000元，他將每月存的錢輸入，當存款足夠購買機車時，就提示訊息告知。\n",
    "#不知道執行的次數\n",
    "import pyinputplus as pyip\n",
    "\n",
    "num = 0\n",
    "deposit = 0\n",
    "while(deposit < 30000):\n",
    "    num += 1\n",
    "    month_value = pyip.inputInt(f\"請輸入第{num}月份的存款:\")\n",
    "    print(month_value)\n",
    "    deposit += month_value\n",
    "\n",
    "print(f\"恭喜！已經存夠了，.共存了{num}月總存款為{deposit}\")    \n",
    "\n"
   ]
  },
  {
   "cell_type": "code",
   "execution_count": 9,
   "metadata": {},
   "outputs": [
    {
     "name": "stdout",
     "output_type": "stream",
     "text": [
      "請輸入學生成績:100\n",
      "請輸入學生成績:100\n",
      "請輸入學生成績:100\n",
      "請輸入學生成績:-5\n",
      "學生總分為300\n"
     ]
    }
   ],
   "source": [
    "#小美是一位教師，請你以while迴圈方式為小美設計一個輸入成績的程式，如果輸入負數表示成績輸入結束，在輸入成績結束後顯示班上總成及平均成績。\n",
    "inputValue = 0\n",
    "sum = 0\n",
    "while(inputValue >= 0):\n",
    "    inputValue = pyip.inputInt(\"請輸入學生成績:\")\n",
    "    print(inputValue)\n",
    "    if inputValue >= 0:\n",
    "        sum += inputValue\n",
    "print(f\"學生總分為{sum}\")        \n",
    "\n"
   ]
  },
  {
   "cell_type": "code",
   "execution_count": 14,
   "metadata": {},
   "outputs": [
    {
     "name": "stdout",
     "output_type": "stream",
     "text": [
      "請輸入學生成績:95\n",
      "請輸入學生成績:99\n",
      "請輸入學生成績:98\n",
      "請輸入學生成績:-5\n",
      "學生總分為292\n"
     ]
    }
   ],
   "source": [
    "#小美是一位教師，請你以while迴圈方式為小美設計一個輸入成績的程式，如果輸入負數表示成績輸入結束，在輸入成績結束後顯示班上總成及平均成績。\n",
    "\n",
    "sum = 0\n",
    "while(True):\n",
    "    inputValue = pyip.inputInt(\"請輸入學生成績:\")\n",
    "    print(inputValue)\n",
    "    if inputValue < 0:\n",
    "       break\n",
    "    sum += inputValue\n",
    "\n",
    "print(f\"學生總分為{sum}\")        \n"
   ]
  },
  {
   "cell_type": "code",
   "execution_count": 15,
   "metadata": {},
   "outputs": [
    {
     "name": "stdout",
     "output_type": "stream",
     "text": [
      "請輸入學生成績:100\n",
      "請輸入學生成績:100\n",
      "請輸入學生成績:100\n",
      "請輸入學生成績:-5\n",
      "學生總分為300,學生平均為:100.0\n"
     ]
    }
   ],
   "source": [
    "sum = 0\n",
    "num = 0\n",
    "while(True):\n",
    "    inputValue = pyip.inputInt(\"請輸入學生成績:\")\n",
    "    print(inputValue)\n",
    "    if inputValue < 0:\n",
    "       break\n",
    "    num += 1\n",
    "    sum += inputValue\n",
    "\n",
    "\n",
    "print(f\"學生總分為{sum},學生平均為:{sum/num}\")        "
   ]
  },
  {
   "cell_type": "code",
   "execution_count": 17,
   "metadata": {},
   "outputs": [
    {
     "name": "stdout",
     "output_type": "stream",
     "text": [
      "961\n",
      "225\n",
      "625\n",
      "應用程式結束\n"
     ]
    }
   ],
   "source": [
    "#顯示:\n",
    "#奇數輸出平方\n",
    "#偶數不做出任何動作\n",
    "#'q'要離開\n",
    "while(True):\n",
    "    value = input(\"請輸入整數，輸入[q]離開:\")\n",
    "    if value =='q':\n",
    "        break\n",
    "    valueInt = int(value)\n",
    "    if (valueInt % 2) == 1:\n",
    "        print(valueInt **2)\n",
    "\n",
    "print(\"應用程式結束\")        \n"
   ]
  },
  {
   "cell_type": "code",
   "execution_count": 18,
   "metadata": {},
   "outputs": [
    {
     "name": "stdout",
     "output_type": "stream",
     "text": [
      "625的平方是625\n",
      "625的平方是625\n",
      "625的平方是625\n",
      "應用程式結束\n"
     ]
    }
   ],
   "source": [
    "#顯示:\n",
    "#奇數輸出平方\n",
    "#偶數不做出任何動作\n",
    "#'q'要離開\n",
    "while(True):\n",
    "    value = input(\"請輸入整數，輸入[q]離開:\")\n",
    "    if value =='q':\n",
    "        break\n",
    "    try:\n",
    "        velueInt = int(value)\n",
    "    except:\n",
    "        print(\"輸入錯誤，請重新輸入\")\n",
    "        continue\n",
    "\n",
    "  \n",
    "    if (valueInt % 2) == 1:\n",
    "        print(f\"{valueInt **2}的平方是{valueInt **2}\")\n",
    "    else:\n",
    "         print(\"不做事\")               \n",
    "\n",
    "print(\"應用程式結束\")     "
   ]
  }
 ],
 "metadata": {
  "kernelspec": {
   "display_name": "Python 3",
   "language": "python",
   "name": "python3"
  },
  "language_info": {
   "codemirror_mode": {
    "name": "ipython",
    "version": 3
   },
   "file_extension": ".py",
   "mimetype": "text/x-python",
   "name": "python",
   "nbconvert_exporter": "python",
   "pygments_lexer": "ipython3",
   "version": "3.10.13"
  }
 },
 "nbformat": 4,
 "nbformat_minor": 2
}
