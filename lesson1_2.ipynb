{
 "cells": [
  {
   "cell_type": "code",
   "execution_count": null,
   "metadata": {},
   "outputs": [],
   "source": [
    "print{\"holee python\"}"
   ]
  },
  {
   "cell_type": "code",
   "execution_count": null,
   "metadata": {},
   "outputs": [],
   "source": [
    "print{\"holle python\"}"
   ]
  },
  {
   "cell_type": "code",
   "execution_count": null,
   "metadata": {},
   "outputs": [],
   "source": [
    "print{\"holle python\"}"
   ]
  },
  {
   "cell_type": "code",
   "execution_count": null,
   "metadata": {},
   "outputs": [],
   "source": [
    "print(\"Hello! Python!\")"
   ]
  },
  {
   "cell_type": "code",
   "execution_count": null,
   "metadata": {},
   "outputs": [],
   "source": [
    "scores = pyip.inputNum(prompt='請輸入學生分數(0~100):',min=0, max=100)\n",
    "print(scores)\n",
    "if scores >= 60:\n",
    "   print (\"不及格\")\n",
    "else: \n",
    "   scores >= 80\n",
    "   print(\"及格\")  \n",
    "   scores = 80,100\n",
    "   print(\"優\")\n",
    "print(f\"學生分數是:{scores}\")"
   ]
  },
  {
   "cell_type": "code",
   "execution_count": null,
   "metadata": {},
   "outputs": [],
   "source": [
    "score = pyip.inputNum(prompt='請輸入學生分數(0~100):',min=0, max=100)\n",
    "print(score)\n",
    "if score <= 60:\n",
    "        print(\"不及格\")\n",
    "elif 60 < score < 80:\n",
    "    print(\"及格\")\n",
    "elif 80 < score :\n",
    "    print(\"優\")"
   ]
  },
  {
   "cell_type": "code",
   "execution_count": null,
   "metadata": {},
   "outputs": [],
   "source": [
    "import pyinputplus as pyip\n",
    "嘗試：\n",
    "scores = pyip.inputNum(prompt=\"請輸入學生分數(0~100分)\",min=0, max=100)\n",
    "print(scores)\n",
    "except:\n",
    "print(\"超出範圍,格式\")\n",
    "else:\n",
    "if分數 <= 60:\n",
    "print(f'學生分數{scores}分,不及格')\n",
    "elif分數 <= 80:\n",
    "print(f'學生分數{scores}分,及格')\n",
    "elif分數 <= 100:\n",
    "print (f'學生分數{scores}分,優')"
   ]
  },
  {
   "cell_type": "code",
   "execution_count": null,
   "metadata": {},
   "outputs": [],
   "source": [
    "age =0,100 \n",
    "print{\"請輸入學生分數(\"0~100分\")}\n",
    "if\"age={0,100}\")\n",
    "if scores >= 60:\n",
    "   print(\"不及格\")\n",
    "else: \n",
    "   scores >= 80\n",
    "   print(\"及格\")  \n",
    "   scores = 80,100\n",
    "   print(\"優\")\n",
    "print(F\"學生分數是:{scores}\")\n"
   ]
  },
  {
   "cell_type": "code",
   "execution_count": null,
   "metadata": {},
   "outputs": [],
   "source": [
    "#請輸入學生分數(0~100):\n",
    "#0~60,不及格\n",
    "#60~80,及格\n",
    "#80~100,優\n",
    "#檢查超出範圍,格式\n",
    "\n",
    "import pyinputplus as pyip\n",
    "\n",
    "scores = pyip.inputInt(\"請輸入學生分數(0-100):\",max=100,min=0)\n",
    "print(scores)\n",
    "\n",
    "if scores < 60:\n",
    "    print(\"不及格\")\n",
    "else:\n",
    "    if scores < 80:\n",
    "        print(\"及格\")\n",
    "    else:\n",
    "        print(\"優\")"
   ]
  },
  {
   "cell_type": "code",
   "execution_count": null,
   "metadata": {},
   "outputs": [],
   "source": [
    "#請輸入學生分數(0~100):\n",
    "#0~60,不及格\n",
    "#60~80,及格\n",
    "#80~100,優\n",
    "#檢查超出範圍,格式\n",
    "\n",
    "import pyinputplus as pyip\n",
    "\n",
    "scores = pyip.inputInt(\"請輸入學生分數(0-100):\",max=100,min=0)\n",
    "print(scores)\n",
    "\n",
    "if scores < 60:\n",
    "    print(\"不及格\")\n",
    "else:\n",
    "    if scores < 80:\n",
    "        print(\"及格\")\n",
    "    else:\n",
    "        print(\"優\")"
   ]
  },
  {
   "cell_type": "code",
   "execution_count": 5,
   "metadata": {},
   "outputs": [
    {
     "ename": "NameError",
     "evalue": "name 'pyip' is not defined",
     "output_type": "error",
     "traceback": [
      "\u001b[0;31m---------------------------------------------------------------------------\u001b[0m",
      "\u001b[0;31mNameError\u001b[0m                                 Traceback (most recent call last)",
      "\u001b[1;32m/workspaces/wen/lesson1_2.ipynb Cell 11\u001b[0m line \u001b[0;36m6\n\u001b[1;32m      <a href='vscode-notebook-cell://codespaces%2Bminiature-funicular-977q49xpqv9vfxxp/workspaces/wen/lesson1_2.ipynb#X13sdnNjb2RlLXJlbW90ZQ%3D%3D?line=0'>1</a>\u001b[0m \u001b[39m# 90(含)~100分為「優」\u001b[39;00m\n\u001b[1;32m      <a href='vscode-notebook-cell://codespaces%2Bminiature-funicular-977q49xpqv9vfxxp/workspaces/wen/lesson1_2.ipynb#X13sdnNjb2RlLXJlbW90ZQ%3D%3D?line=1'>2</a>\u001b[0m \u001b[39m# 80(含)~89分為「甲」\u001b[39;00m\n\u001b[1;32m      <a href='vscode-notebook-cell://codespaces%2Bminiature-funicular-977q49xpqv9vfxxp/workspaces/wen/lesson1_2.ipynb#X13sdnNjb2RlLXJlbW90ZQ%3D%3D?line=2'>3</a>\u001b[0m \u001b[39m# 70(含)~79分為「乙」\u001b[39;00m\n\u001b[1;32m      <a href='vscode-notebook-cell://codespaces%2Bminiature-funicular-977q49xpqv9vfxxp/workspaces/wen/lesson1_2.ipynb#X13sdnNjb2RlLXJlbW90ZQ%3D%3D?line=3'>4</a>\u001b[0m \u001b[39m# 60(含)~69分為「丙」\u001b[39;00m\n\u001b[1;32m      <a href='vscode-notebook-cell://codespaces%2Bminiature-funicular-977q49xpqv9vfxxp/workspaces/wen/lesson1_2.ipynb#X13sdnNjb2RlLXJlbW90ZQ%3D%3D?line=4'>5</a>\u001b[0m \u001b[39m# 0(含)~59分為「丁」\u001b[39;00m\n\u001b[0;32m----> <a href='vscode-notebook-cell://codespaces%2Bminiature-funicular-977q49xpqv9vfxxp/workspaces/wen/lesson1_2.ipynb#X13sdnNjb2RlLXJlbW90ZQ%3D%3D?line=5'>6</a>\u001b[0m scores \u001b[39m=\u001b[39m pyip\u001b[39m.\u001b[39minputInt(\u001b[39m\"\u001b[39m\u001b[39m請輸入學生分數(0-100):\u001b[39m\u001b[39m\"\u001b[39m,\u001b[39mmax\u001b[39m\u001b[39m=\u001b[39m\u001b[39m100\u001b[39m,\u001b[39mmin\u001b[39m\u001b[39m=\u001b[39m\u001b[39m0\u001b[39m)\n\u001b[1;32m      <a href='vscode-notebook-cell://codespaces%2Bminiature-funicular-977q49xpqv9vfxxp/workspaces/wen/lesson1_2.ipynb#X13sdnNjb2RlLXJlbW90ZQ%3D%3D?line=6'>7</a>\u001b[0m \u001b[39mprint\u001b[39m(scores)\n\u001b[1;32m      <a href='vscode-notebook-cell://codespaces%2Bminiature-funicular-977q49xpqv9vfxxp/workspaces/wen/lesson1_2.ipynb#X13sdnNjb2RlLXJlbW90ZQ%3D%3D?line=8'>9</a>\u001b[0m \u001b[39mif\u001b[39;00m scores \u001b[39m>\u001b[39m\u001b[39m=\u001b[39m \u001b[39m90\u001b[39m:\n",
      "\u001b[0;31mNameError\u001b[0m: name 'pyip' is not defined"
     ]
    }
   ],
   "source": [
    "# 90(含)~100分為「優」\n",
    "# 80(含)~89分為「甲」\n",
    "# 70(含)~79分為「乙」\n",
    "# 60(含)~69分為「丙」\n",
    "# 0(含)~59分為「丁」\n",
    "scores = pyip.inputInt(\"請輸入學生分數(0-100):\",max=100,min=0)\n",
    "print(scores)\n",
    "\n",
    "if scores >= 90:\n",
    "    print(\"優\")\n",
    "elif scores >= 80:\n",
    "    print(\"甲\")\n",
    "elif scores >= 70:\n",
    "    print(\"乙\")\n",
    "elif scores >= 60:\n",
    "    print(\"丙\")\n",
    "else:\n",
    "    print(\"丁\")"
   ]
  },
  {
   "cell_type": "code",
   "execution_count": 6,
   "metadata": {},
   "outputs": [
    {
     "ename": "SyntaxError",
     "evalue": "incomplete input (3590538898.py, line 8)",
     "output_type": "error",
     "traceback": [
      "\u001b[0;36m  Cell \u001b[0;32mIn[6], line 8\u001b[0;36m\u001b[0m\n\u001b[0;31m    if scores >=90:\u001b[0m\n\u001b[0m                   ^\u001b[0m\n\u001b[0;31mSyntaxError\u001b[0m\u001b[0;31m:\u001b[0m incomplete input\n"
     ]
    }
   ],
   "source": [
    "# 90(含)~100分為「優」\n",
    "# 80(含)~89分為「甲」\n",
    "# 70(含)~79分為「乙」\n",
    "# 60(含)~99分為「丙」\n",
    "# 0(含)~59分為「丁」\n",
    "scores = pyip.inputint(\"請輸入學生分數(0-100):\",max=100,min=0)\n",
    "print(scores)\n",
    "if scores >=90:\n",
    "    print(\"優\")\n",
    "elif scores >=(\"甲\")    "
   ]
  },
  {
   "cell_type": "code",
   "execution_count": 7,
   "metadata": {},
   "outputs": [
    {
     "ename": "NameError",
     "evalue": "name 'pyip' is not defined",
     "output_type": "error",
     "traceback": [
      "\u001b[0;31m---------------------------------------------------------------------------\u001b[0m",
      "\u001b[0;31mNameError\u001b[0m                                 Traceback (most recent call last)",
      "\u001b[1;32m/workspaces/wen/lesson1_2.ipynb Cell 13\u001b[0m line \u001b[0;36m6\n\u001b[1;32m      <a href='vscode-notebook-cell://codespaces%2Bminiature-funicular-977q49xpqv9vfxxp/workspaces/wen/lesson1_2.ipynb#X15sdnNjb2RlLXJlbW90ZQ%3D%3D?line=0'>1</a>\u001b[0m \u001b[39m# 90(含)~100分為「優」\u001b[39;00m\n\u001b[1;32m      <a href='vscode-notebook-cell://codespaces%2Bminiature-funicular-977q49xpqv9vfxxp/workspaces/wen/lesson1_2.ipynb#X15sdnNjb2RlLXJlbW90ZQ%3D%3D?line=1'>2</a>\u001b[0m \u001b[39m# 80(含)~89分為「甲」\u001b[39;00m\n\u001b[1;32m      <a href='vscode-notebook-cell://codespaces%2Bminiature-funicular-977q49xpqv9vfxxp/workspaces/wen/lesson1_2.ipynb#X15sdnNjb2RlLXJlbW90ZQ%3D%3D?line=2'>3</a>\u001b[0m \u001b[39m# 70(含)~79分為「乙」\u001b[39;00m\n\u001b[1;32m      <a href='vscode-notebook-cell://codespaces%2Bminiature-funicular-977q49xpqv9vfxxp/workspaces/wen/lesson1_2.ipynb#X15sdnNjb2RlLXJlbW90ZQ%3D%3D?line=3'>4</a>\u001b[0m \u001b[39m# 60(含)~69分為「丙」\u001b[39;00m\n\u001b[1;32m      <a href='vscode-notebook-cell://codespaces%2Bminiature-funicular-977q49xpqv9vfxxp/workspaces/wen/lesson1_2.ipynb#X15sdnNjb2RlLXJlbW90ZQ%3D%3D?line=4'>5</a>\u001b[0m \u001b[39m# 0(含)~59分為「丁」\u001b[39;00m\n\u001b[0;32m----> <a href='vscode-notebook-cell://codespaces%2Bminiature-funicular-977q49xpqv9vfxxp/workspaces/wen/lesson1_2.ipynb#X15sdnNjb2RlLXJlbW90ZQ%3D%3D?line=5'>6</a>\u001b[0m scores \u001b[39m=\u001b[39m pyip\u001b[39m.\u001b[39minputInt(\u001b[39m\"\u001b[39m\u001b[39m請輸入學生分數(0-100):\u001b[39m\u001b[39m\"\u001b[39m,\u001b[39mmax\u001b[39m\u001b[39m=\u001b[39m\u001b[39m100\u001b[39m,\u001b[39mmin\u001b[39m\u001b[39m=\u001b[39m\u001b[39m0\u001b[39m)\n\u001b[1;32m      <a href='vscode-notebook-cell://codespaces%2Bminiature-funicular-977q49xpqv9vfxxp/workspaces/wen/lesson1_2.ipynb#X15sdnNjb2RlLXJlbW90ZQ%3D%3D?line=6'>7</a>\u001b[0m \u001b[39mprint\u001b[39m(scores)\n\u001b[1;32m      <a href='vscode-notebook-cell://codespaces%2Bminiature-funicular-977q49xpqv9vfxxp/workspaces/wen/lesson1_2.ipynb#X15sdnNjb2RlLXJlbW90ZQ%3D%3D?line=8'>9</a>\u001b[0m \u001b[39mif\u001b[39;00m scores \u001b[39m>\u001b[39m\u001b[39m=\u001b[39m \u001b[39m90\u001b[39m:\n",
      "\u001b[0;31mNameError\u001b[0m: name 'pyip' is not defined"
     ]
    }
   ],
   "source": [
    "# 90(含)~100分為「優」\n",
    "# 80(含)~89分為「甲」\n",
    "# 70(含)~79分為「乙」\n",
    "# 60(含)~69分為「丙」\n",
    "# 0(含)~59分為「丁」\n",
    "scores = pyip.inputInt(\"請輸入學生分數(0-100):\",max=100,min=0)\n",
    "print(scores)\n",
    "\n",
    "if scores >= 90:\n",
    "    print(\"優\")\n",
    "elif scores >= 80:\n",
    "    print(\"甲\")\n",
    "elif scores >= 70:\n",
    "    print(\"乙\")\n",
    "elif scores >= 60:\n",
    "    print(\"丙\")\n",
    "else:\n",
    "    print(\"丁\")"
   ]
  },
  {
   "cell_type": "code",
   "execution_count": 8,
   "metadata": {},
   "outputs": [
    {
     "ename": "NameError",
     "evalue": "name 'pyip' is not defined",
     "output_type": "error",
     "traceback": [
      "\u001b[0;31m---------------------------------------------------------------------------\u001b[0m",
      "\u001b[0;31mNameError\u001b[0m                                 Traceback (most recent call last)",
      "\u001b[1;32m/workspaces/wen/lesson1_2.ipynb Cell 14\u001b[0m line \u001b[0;36m6\n\u001b[1;32m      <a href='vscode-notebook-cell://codespaces%2Bminiature-funicular-977q49xpqv9vfxxp/workspaces/wen/lesson1_2.ipynb#X16sdnNjb2RlLXJlbW90ZQ%3D%3D?line=0'>1</a>\u001b[0m \u001b[39m#限制級 : 18歲\u001b[39;00m\n\u001b[1;32m      <a href='vscode-notebook-cell://codespaces%2Bminiature-funicular-977q49xpqv9vfxxp/workspaces/wen/lesson1_2.ipynb#X16sdnNjb2RlLXJlbW90ZQ%3D%3D?line=1'>2</a>\u001b[0m \u001b[39m#輔導級 : 13(含) ~ 17歲以上皆可欣賞。\u001b[39;00m\n\u001b[1;32m      <a href='vscode-notebook-cell://codespaces%2Bminiature-funicular-977q49xpqv9vfxxp/workspaces/wen/lesson1_2.ipynb#X16sdnNjb2RlLXJlbW90ZQ%3D%3D?line=2'>3</a>\u001b[0m \u001b[39m#普遍級 : 12(含)歲以下皆可欣賞。\u001b[39;00m\n\u001b[1;32m      <a href='vscode-notebook-cell://codespaces%2Bminiature-funicular-977q49xpqv9vfxxp/workspaces/wen/lesson1_2.ipynb#X16sdnNjb2RlLXJlbW90ZQ%3D%3D?line=3'>4</a>\u001b[0m \u001b[39m#如果沒有輸入年齡預設為普遍級。\u001b[39;00m\n\u001b[0;32m----> <a href='vscode-notebook-cell://codespaces%2Bminiature-funicular-977q49xpqv9vfxxp/workspaces/wen/lesson1_2.ipynb#X16sdnNjb2RlLXJlbW90ZQ%3D%3D?line=5'>6</a>\u001b[0m sge \u001b[39m=\u001b[39m pyip\u001b[39m.\u001b[39minputInt(\u001b[39m\"\u001b[39m\u001b[39m請輸入年齡\u001b[39m\u001b[39m\"\u001b[39m,\u001b[39mmax\u001b[39m\u001b[39m=\u001b[39m\u001b[39m100\u001b[39m,\u001b[39mmin\u001b[39m\u001b[39m=\u001b[39m\u001b[39m0\u001b[39m,blank\u001b[39m=\u001b[39m\u001b[39mTrue\u001b[39;00m)\n\u001b[1;32m      <a href='vscode-notebook-cell://codespaces%2Bminiature-funicular-977q49xpqv9vfxxp/workspaces/wen/lesson1_2.ipynb#X16sdnNjb2RlLXJlbW90ZQ%3D%3D?line=6'>7</a>\u001b[0m \u001b[39mtype\u001b[39m(age)\n",
      "\u001b[0;31mNameError\u001b[0m: name 'pyip' is not defined"
     ]
    }
   ],
   "source": [
    "#限制級 : 18歲以上皆可欣賞\n",
    "#輔導級 : 13(含) ~ 17歲以上皆可欣賞。\n",
    "#普遍級 : 12(含)歲以下皆可欣賞。\n",
    "#如果沒有輸入年齡預設為普遍級。\n",
    "\n",
    "sge = pyip.inputInt(\"請輸入年齡\",max=100,min=0,blank=True)\n",
    "type(age)"
   ]
  },
  {
   "cell_type": "code",
   "execution_count": 9,
   "metadata": {},
   "outputs": [
    {
     "ename": "NameError",
     "evalue": "name 'pyip' is not defined",
     "output_type": "error",
     "traceback": [
      "\u001b[0;31m---------------------------------------------------------------------------\u001b[0m",
      "\u001b[0;31mNameError\u001b[0m                                 Traceback (most recent call last)",
      "\u001b[1;32m/workspaces/wen/lesson1_2.ipynb Cell 15\u001b[0m line \u001b[0;36m6\n\u001b[1;32m      <a href='vscode-notebook-cell://codespaces%2Bminiature-funicular-977q49xpqv9vfxxp/workspaces/wen/lesson1_2.ipynb#X20sdnNjb2RlLXJlbW90ZQ%3D%3D?line=0'>1</a>\u001b[0m \u001b[39m#限制級 : 18歲以上皆可欣賞\u001b[39;00m\n\u001b[1;32m      <a href='vscode-notebook-cell://codespaces%2Bminiature-funicular-977q49xpqv9vfxxp/workspaces/wen/lesson1_2.ipynb#X20sdnNjb2RlLXJlbW90ZQ%3D%3D?line=1'>2</a>\u001b[0m \u001b[39m#輔導級 : 13(含) ~ 17歲以上皆可欣賞。\u001b[39;00m\n\u001b[1;32m      <a href='vscode-notebook-cell://codespaces%2Bminiature-funicular-977q49xpqv9vfxxp/workspaces/wen/lesson1_2.ipynb#X20sdnNjb2RlLXJlbW90ZQ%3D%3D?line=2'>3</a>\u001b[0m \u001b[39m#普遍級 : 12(含)歲以下皆可欣賞。\u001b[39;00m\n\u001b[1;32m      <a href='vscode-notebook-cell://codespaces%2Bminiature-funicular-977q49xpqv9vfxxp/workspaces/wen/lesson1_2.ipynb#X20sdnNjb2RlLXJlbW90ZQ%3D%3D?line=3'>4</a>\u001b[0m \u001b[39m#如果沒有輸入年齡預設為普遍級。\u001b[39;00m\n\u001b[0;32m----> <a href='vscode-notebook-cell://codespaces%2Bminiature-funicular-977q49xpqv9vfxxp/workspaces/wen/lesson1_2.ipynb#X20sdnNjb2RlLXJlbW90ZQ%3D%3D?line=5'>6</a>\u001b[0m sge \u001b[39m=\u001b[39m pyip\u001b[39m.\u001b[39minputInt(\u001b[39m\"\u001b[39m\u001b[39m請輸入年齡\u001b[39m\u001b[39m\"\u001b[39m,\u001b[39mmax\u001b[39m\u001b[39m=\u001b[39m\u001b[39m100\u001b[39m,\u001b[39mmin\u001b[39m\u001b[39m=\u001b[39m\u001b[39m0\u001b[39m,blank\u001b[39m=\u001b[39m\u001b[39mTrue\u001b[39;00m)\n\u001b[1;32m      <a href='vscode-notebook-cell://codespaces%2Bminiature-funicular-977q49xpqv9vfxxp/workspaces/wen/lesson1_2.ipynb#X20sdnNjb2RlLXJlbW90ZQ%3D%3D?line=7'>8</a>\u001b[0m \u001b[39mif\u001b[39;00m age \u001b[39m==\u001b[39m\u001b[39m\"\u001b[39m\u001b[39m\"\u001b[39m:\n\u001b[1;32m      <a href='vscode-notebook-cell://codespaces%2Bminiature-funicular-977q49xpqv9vfxxp/workspaces/wen/lesson1_2.ipynb#X20sdnNjb2RlLXJlbW90ZQ%3D%3D?line=8'>9</a>\u001b[0m     \u001b[39mprint\u001b[39m(\u001b[39m\"\u001b[39m\u001b[39m普遍級\u001b[39m\u001b[39m\"\u001b[39m)\n",
      "\u001b[0;31mNameError\u001b[0m: name 'pyip' is not defined"
     ]
    }
   ],
   "source": [
    "#限制級 : 18歲以上皆可欣賞\n",
    "#輔導級 : 13(含) ~ 17歲以上皆可欣賞。\n",
    "#普遍級 : 12(含)歲以下皆可欣賞。\n",
    "#如果沒有輸入年齡預設為普遍級。\n",
    "\n",
    "sge = pyip.inputInt(\"請輸入年齡\",max=100,min=0,blank=True)\n",
    "\n",
    "if age ==\"\":\n",
    "    print(\"普遍級\")\n",
    "elif age >= 18:\n",
    "    print(\"限制級\")\n",
    "elif age >=13:\n",
    "    print(\"輔導級\")\n",
    "else:\n",
    "    print(\"普遍級\")\n",
    "                "
   ]
  }
 ],
 "metadata": {
  "kernelspec": {
   "display_name": "Python 3",
   "language": "python",
   "name": "python3"
  },
  "language_info": {
   "codemirror_mode": {
    "name": "ipython",
    "version": 3
   },
   "file_extension": ".py",
   "mimetype": "text/x-python",
   "name": "python",
   "nbconvert_exporter": "python",
   "pygments_lexer": "ipython3",
   "version": "3.10.13"
  }
 },
 "nbformat": 4,
 "nbformat_minor": 2
}
