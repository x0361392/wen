{
 "cells": [
  {
   "cell_type": "code",
   "execution_count": 3,
   "metadata": {},
   "outputs": [
    {
     "name": "stdout",
     "output_type": "stream",
     "text": [
      "1 = 1   1 = 2   1 = 3   1 = 4   1 = 5   1 = 6   1 = 7   1 = 8   1 = 9   \n",
      "2 = 1   2 = 2   2 = 3   2 = 4   2 = 5   2 = 6   2 = 7   2 = 8   2 = 9   \n",
      "3 = 1   3 = 2   3 = 3   3 = 4   3 = 5   3 = 6   3 = 7   3 = 8   3 = 9   \n",
      "4 = 1   4 = 2   4 = 3   4 = 4   4 = 5   4 = 6   4 = 7   4 = 8   4 = 9   \n",
      "5 = 1   5 = 2   5 = 3   5 = 4   5 = 5   5 = 6   5 = 7   5 = 8   5 = 9   \n",
      "6 = 1   6 = 2   6 = 3   6 = 4   6 = 5   6 = 6   6 = 7   6 = 8   6 = 9   \n",
      "7 = 1   7 = 2   7 = 3   7 = 4   7 = 5   7 = 6   7 = 7   7 = 8   7 = 9   \n",
      "8 = 1   8 = 2   8 = 3   8 = 4   8 = 5   8 = 6   8 = 7   8 = 8   8 = 9   \n",
      "9 = 1   9 = 2   9 = 3   9 = 4   9 = 5   9 = 6   9 = 7   9 = 8   9 = 9   \n"
     ]
    }
   ],
   "source": [
    "for i in range(1,10):\n",
    "    for j in range(1,10):\n",
    "        print(f\"{i:<2}={j:2}\",end='   ')\n",
    "    print()    "
   ]
  }
 ],
 "metadata": {
  "kernelspec": {
   "display_name": "Python 3",
   "language": "python",
   "name": "python3"
  },
  "language_info": {
   "codemirror_mode": {
    "name": "ipython",
    "version": 3
   },
   "file_extension": ".py",
   "mimetype": "text/x-python",
   "name": "python",
   "nbconvert_exporter": "python",
   "pygments_lexer": "ipython3",
   "version": "3.10.13"
  }
 },
 "nbformat": 4,
 "nbformat_minor": 2
}
