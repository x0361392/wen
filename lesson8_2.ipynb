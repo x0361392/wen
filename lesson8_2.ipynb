{
 "cells": [
  {
   "cell_type": "code",
   "execution_count": 4,
   "metadata": {},
   "outputs": [
    {
     "name": "stdout",
     "output_type": "stream",
     "text": [
      "Hello!python\n",
      "Hello!python\n",
      "Hello!python\n"
     ]
    }
   ],
   "source": [
    "#建立一個function\n",
    "#沒有參數，沒有傳出值的function\n",
    "#沒有的function,靈活性最差\n",
    "def sayHello():\n",
    "    print(\"Hello!python\")\n",
    "\n",
    "sayHello()   \n",
    "sayHello()   \n",
    "sayHello()"
   ]
  },
  {
   "cell_type": "code",
   "execution_count": 6,
   "metadata": {},
   "outputs": [
    {
     "name": "stdout",
     "output_type": "stream",
     "text": [
      "Hello!WEN!\n",
      "Hello!lin!\n",
      "Hello!jet!\n"
     ]
    }
   ],
   "source": [
    "def sayHello(name):\n",
    "    print(f'Hello!{name}!')\n",
    "\n",
    "name = \"wen\"\n",
    "sayHello(\"WEN\")\n",
    "sayHello(\"lin\")\n",
    "sayHello(\"jet\")\n"
   ]
  },
  {
   "cell_type": "code",
   "execution_count": 7,
   "metadata": {},
   "outputs": [
    {
     "ename": "SyntaxError",
     "evalue": "invalid syntax. Perhaps you forgot a comma? (4005591229.py, line 14)",
     "output_type": "error",
     "traceback": [
      "\u001b[0;36m  Cell \u001b[0;32mIn[7], line 14\u001b[0;36m\u001b[0m\n\u001b[0;31m    sayHello(\"WEN\"13)\u001b[0m\n\u001b[0m             ^\u001b[0m\n\u001b[0;31mSyntaxError\u001b[0m\u001b[0;31m:\u001b[0m invalid syntax. Perhaps you forgot a comma?\n"
     ]
    }
   ],
   "source": [
    "def sayHello(name,age):\n",
    "    if age<18:\n",
    "        alis = \"少年\"\n",
    "    elif age < 30:\n",
    "        alia = \"中年\"\n",
    "    elif age < 50:\n",
    "         alias =\"壯年\"\n",
    "    else:\n",
    "        alias = \"老年\"\n",
    "\n",
    "    print(f'Hello!{alias}:{name}!')\n",
    "\n",
    "#引數值的呼叫要依順序\n",
    "sayHello(\"WEN\"13)\n",
    "sayHello(\"lin\"25)\n",
    "sayHello(\"jet\"45)"
   ]
  },
  {
   "cell_type": "code",
   "execution_count": 8,
   "metadata": {},
   "outputs": [
    {
     "name": "stdout",
     "output_type": "stream",
     "text": [
      "Hello! 少年:徐國堂!\n",
      "Hello! 中年:robert!\n",
      "Hello! 壯年:jenny!\n",
      "Hello! 老年:alice!\n"
     ]
    }
   ],
   "source": [
    "def sayHello(name,age):\n",
    "    if age<18:\n",
    "        alias = \"少年\"\n",
    "    elif age < 30:\n",
    "        alias = \"中年\"\n",
    "    elif age < 50:\n",
    "        alias = \"壯年\"\n",
    "    else:\n",
    "        alias = \"老年\"\n",
    "    \n",
    "    print(f'Hello! {alias}:{name}!')\n",
    "\n",
    "#引數值的呼叫要依順序\n",
    "sayHello(\"徐國堂\",13)\n",
    "sayHello(\"robert\",25)\n",
    "sayHello(\"jenny\",45)\n",
    "sayHello(\"alice\",65)"
   ]
  },
  {
   "cell_type": "code",
   "execution_count": 9,
   "metadata": {},
   "outputs": [
    {
     "name": "stdout",
     "output_type": "stream",
     "text": [
      "Hello! 少年:徐國堂!\n",
      "Hello! 中年:robert!\n"
     ]
    }
   ],
   "source": [
    "#引數名稱的呼叫\n",
    "#可以不依順序\n",
    "sayHello(name=\"徐國堂\",age=13)\n",
    "sayHello(age=25,name=\"robert\")\n"
   ]
  },
  {
   "cell_type": "code",
   "execution_count": 10,
   "metadata": {},
   "outputs": [
    {
     "name": "stdout",
     "output_type": "stream",
     "text": [
      "Hello! 少年:徐國堂!\n",
      "Hello! 中年:robert!\n"
     ]
    }
   ],
   "source": [
    "#混數呼叫\n",
    "#引數值呼叫在前面，引數名稱在後面\n",
    "#使用引數名稱後,後面全部要使引數名稱的呼叫\n",
    "sayHello(\"徐國堂\",age=13)\n",
    "sayHello(\"robert\",age=25)"
   ]
  },
  {
   "cell_type": "code",
   "execution_count": 15,
   "metadata": {},
   "outputs": [
    {
     "name": "stdout",
     "output_type": "stream",
     "text": [
      "Hello! →少年:徐國堂!\n",
      "Hello! →中年:robert!\n",
      "Hello! →壯年:jenny!\n",
      "Hello! →老年:alice!\n"
     ]
    }
   ],
   "source": [
    "#參數的default value,呼叫可以省略\n",
    "#參數的default value，定義一定要在最後\n",
    "def sayHello(name,age,is_male=None):\n",
    "    if is_male is None:\n",
    "        prefix=\"\"\n",
    "    elif is_male:\n",
    "        prefix=\"Mr\"\n",
    "    else:\n",
    "        prefix=\"Ms\"\n",
    "    if age<18:\n",
    "        alias = \"少年\"\n",
    "    elif age < 30:\n",
    "        alias = \"中年\"\n",
    "    elif age < 50:\n",
    "        alias = \"壯年\"\n",
    "    else:\n",
    "        alias = \"老年\"\n",
    "    \n",
    "    print(f'Hello! {prefix}→{alias}:{name}!')\n",
    "\n",
    "#引數值的呼叫要依順序\n",
    "sayHello(\"徐國堂\",13)\n",
    "sayHello(\"robert\",25)\n",
    "sayHello(\"jenny\",45)\n",
    "sayHello(\"alice\",65)"
   ]
  },
  {
   "cell_type": "code",
   "execution_count": 1,
   "metadata": {},
   "outputs": [
    {
     "name": "stdout",
     "output_type": "stream",
     "text": [
      "69\n",
      "===========猜數字遊戲=============\n",
      "猜數字範圍1~100:2\n",
      "再大一點\n",
      "您已經猜了1次\n",
      "猜數字範圍3~100:Blank values are not allowed.\n",
      "猜數字範圍3~100:Number must be at minimum 3.\n",
      "猜數字範圍3~100:Blank values are not allowed.\n",
      "猜數字範圍3~100:Blank values are not allowed.\n",
      "猜數字範圍3~100:69\n",
      "賓果!猜對了, 答案是:69\n",
      "您共猜了:2次\n",
      "您還要繼續玩嗎?(y,n):Game Over!\n"
     ]
    }
   ],
   "source": [
    "import random\n",
    "import pyinputplus as pyip\n",
    "def playGame():\n",
    "    min = 1\n",
    "    max = 100\n",
    "    count = 0\n",
    "    randomNum = random.randint(min,max)\n",
    "    print(randomNum)\n",
    "    print(\"===========猜數字遊戲=============\")\n",
    "    while True:\n",
    "        keyin = pyip.inputInt(f\"猜數字範圍{min}~{max}:\",min=min,max=max)\n",
    "        print(keyin)\n",
    "        count += 1\n",
    "        if(keyin == randomNum):\n",
    "            print(f\"賓果!猜對了, 答案是:{randomNum}\")\n",
    "            print(f\"您共猜了:{count}次\")\n",
    "            break\n",
    "        elif keyin > randomNum:\n",
    "            print(\"再小一點\")\n",
    "            max = keyin - 1\n",
    "        elif keyin < randomNum:\n",
    "            print(\"再大一點\")\n",
    "            min = keyin + 1\n",
    "        print(f\"您已經猜了{count}次\")\n",
    "\n",
    "\n",
    "while(True):\n",
    "    playGame()\n",
    "    is_play = pyip.inputYesNo(\"您還要繼續玩嗎?(y,n):\")\n",
    "    if is_play==\"no\":\n",
    "        break\n",
    "\n",
    "print(\"Game Over!\")"
   ]
  }
 ],
 "metadata": {
  "kernelspec": {
   "display_name": "Python 3",
   "language": "python",
   "name": "python3"
  },
  "language_info": {
   "codemirror_mode": {
    "name": "ipython",
    "version": 3
   },
   "file_extension": ".py",
   "mimetype": "text/x-python",
   "name": "python",
   "nbconvert_exporter": "python",
   "pygments_lexer": "ipython3",
   "version": "3.10.13"
  }
 },
 "nbformat": 4,
 "nbformat_minor": 2
}
