{
 "cells": [
  {
   "cell_type": "code",
   "execution_count": 3,
   "metadata": {},
   "outputs": [
    {
     "name": "stdout",
     "output_type": "stream",
     "text": [
      "請輸入半徑:50.0\n",
      "半徑:50.00,面積為:7853.98\n"
     ]
    }
   ],
   "source": [
    "import math\n",
    "import pyinputplus as pyip\n",
    "\n",
    "#會傳出值的function\n",
    "def circle_area(radius):\n",
    "    area = math.pi * radius ** 2\n",
    "    return area\n",
    "\n",
    "radius = pyip.inputFloat(\"請輸入半徑:\")\n",
    "print(radius)\n",
    "area = circle_area(radius)\n",
    "print(f\"半徑:{radius:.2f},面積為:{area:.2f}\")\n",
    "area = circle_area(radius)\n",
    "\n",
    "          "
   ]
  },
  {
   "cell_type": "code",
   "execution_count": 6,
   "metadata": {},
   "outputs": [
    {
     "name": "stdout",
     "output_type": "stream",
     "text": [
      "請輸入半徑:10.0\n",
      "半徑:10.00,面積為:314.16\n"
     ]
    }
   ],
   "source": [
    "import math\n",
    "import pyinputplus as pyip\n",
    "\n",
    "#會傳出值的function\n",
    "def circle_area(radius:int | float)->float:\n",
    "    area = math.pi * radius ** 2\n",
    "    return area\n",
    "\n",
    "radius = pyip.inputFloat(\"請輸入半徑:\")\n",
    "print(radius)\n",
    "area = circle_area(radius)\n",
    "print(f\"半徑:{radius:.2f},面積為:{area:.2f}\")\n",
    "area = circle_area(radius)"
   ]
  }
 ],
 "metadata": {
  "kernelspec": {
   "display_name": "Python 3",
   "language": "python",
   "name": "python3"
  },
  "language_info": {
   "codemirror_mode": {
    "name": "ipython",
    "version": 3
   },
   "file_extension": ".py",
   "mimetype": "text/x-python",
   "name": "python",
   "nbconvert_exporter": "python",
   "pygments_lexer": "ipython3",
   "version": "3.10.13"
  }
 },
 "nbformat": 4,
 "nbformat_minor": 2
}
